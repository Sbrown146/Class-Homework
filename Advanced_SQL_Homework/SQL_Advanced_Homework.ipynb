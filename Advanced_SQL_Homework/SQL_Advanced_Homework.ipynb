{
 "cells": [
  {
   "cell_type": "code",
   "execution_count": 85,
   "metadata": {},
   "outputs": [],
   "source": [
    "# Dependencies\n",
    "\n",
    "%matplotlib inline\n",
    "from matplotlib import style\n",
    "style.use('fivethirtyeight')\n",
    "import matplotlib.pyplot as plt\n",
    "import scipy.stats as stats\n",
    "\n",
    "import numpy as np\n",
    "import pandas as pd\n",
    "\n",
    "import datetime as dt\n",
    "\n",
    "import sqlalchemy\n",
    "from sqlalchemy.ext.automap import automap_base\n",
    "from sqlalchemy.orm import Session\n",
    "from sqlalchemy import create_engine, func, or_"
   ]
  },
  {
   "cell_type": "code",
   "execution_count": 2,
   "metadata": {},
   "outputs": [],
   "source": [
    "# Engine\n",
    "\n",
    "engine = create_engine(\"sqlite:///Resources/hawaii.sqlite\")"
   ]
  },
  {
   "cell_type": "code",
   "execution_count": 3,
   "metadata": {
    "scrolled": true
   },
   "outputs": [
    {
     "data": {
      "text/plain": [
       "['measurement', 'station']"
      ]
     },
     "execution_count": 3,
     "metadata": {},
     "output_type": "execute_result"
    }
   ],
   "source": [
    "# Making sure the data was brought in correctly\n",
    "\n",
    "Base=automap_base()\n",
    "Base.prepare(engine, reflect=True)\n",
    "Base.classes.keys()"
   ]
  },
  {
   "cell_type": "code",
   "execution_count": 4,
   "metadata": {},
   "outputs": [],
   "source": [
    "# Setting variables to the Measurement and Station variables\n",
    "\n",
    "Measurement=Base.classes.measurement\n",
    "Station=Base.classes.station"
   ]
  },
  {
   "cell_type": "code",
   "execution_count": 5,
   "metadata": {},
   "outputs": [],
   "source": [
    "# Filters for the last 12 months of data.\n",
    "# 2017-08-23 is the final date. \n",
    "\n",
    "session=Session(engine)\n",
    "Date_prcp=session.query(Measurement.date, Measurement.prcp).  \\\n",
    "    filter(Measurement.date < '2017-08-24').  \\\n",
    "    filter(Measurement.date > '2016-08-22').all()"
   ]
  },
  {
   "cell_type": "code",
   "execution_count": 6,
   "metadata": {},
   "outputs": [],
   "source": [
    "#Date_prcp"
   ]
  },
  {
   "cell_type": "code",
   "execution_count": 348,
   "metadata": {
    "scrolled": true
   },
   "outputs": [
    {
     "data": {
      "text/html": [
       "<div>\n",
       "<style scoped>\n",
       "    .dataframe tbody tr th:only-of-type {\n",
       "        vertical-align: middle;\n",
       "    }\n",
       "\n",
       "    .dataframe tbody tr th {\n",
       "        vertical-align: top;\n",
       "    }\n",
       "\n",
       "    .dataframe thead th {\n",
       "        text-align: right;\n",
       "    }\n",
       "</style>\n",
       "<table border=\"1\" class=\"dataframe\">\n",
       "  <thead>\n",
       "    <tr style=\"text-align: right;\">\n",
       "      <th></th>\n",
       "      <th>precipitation</th>\n",
       "    </tr>\n",
       "    <tr>\n",
       "      <th>date</th>\n",
       "      <th></th>\n",
       "    </tr>\n",
       "  </thead>\n",
       "  <tbody>\n",
       "    <tr>\n",
       "      <th>2016-08-23</th>\n",
       "      <td>0.00</td>\n",
       "    </tr>\n",
       "    <tr>\n",
       "      <th>2016-08-24</th>\n",
       "      <td>0.08</td>\n",
       "    </tr>\n",
       "    <tr>\n",
       "      <th>2016-08-25</th>\n",
       "      <td>0.08</td>\n",
       "    </tr>\n",
       "    <tr>\n",
       "      <th>2016-08-26</th>\n",
       "      <td>0.00</td>\n",
       "    </tr>\n",
       "    <tr>\n",
       "      <th>2016-08-27</th>\n",
       "      <td>0.00</td>\n",
       "    </tr>\n",
       "  </tbody>\n",
       "</table>\n",
       "</div>"
      ],
      "text/plain": [
       "            precipitation\n",
       "date                     \n",
       "2016-08-23           0.00\n",
       "2016-08-24           0.08\n",
       "2016-08-25           0.08\n",
       "2016-08-26           0.00\n",
       "2016-08-27           0.00"
      ]
     },
     "execution_count": 348,
     "metadata": {},
     "output_type": "execute_result"
    }
   ],
   "source": [
    "# Dataframe for graph with date set as the index\n",
    "# 2021 total for count.\n",
    "\n",
    "Prcp_df=pd.DataFrame(Date_prcp, columns=('date', 'precipitation'))\n",
    "Prcp_df=Prcp_df.set_index(['date'])\n",
    "Prcp_df.head()"
   ]
  },
  {
   "cell_type": "code",
   "execution_count": null,
   "metadata": {},
   "outputs": [],
   "source": [
    "# Precipitation Data for Last 12 Months\n",
    "\n",
    "Prcp_graph=Prcp_df.plot(kind='bar', grid=True, figsize=(12,8))\n",
    "lgnd=plt.legend(loc='upper center')\n",
    "#Prcp_graph.set_xticks(Prcp_df.index)\n",
    "\n",
    "#plt.gca().get_xaxis().set_visible(False)\n",
    "plt.xlabel('Date')\n",
    "plt.show()\n"
   ]
  },
  {
   "cell_type": "code",
   "execution_count": 7,
   "metadata": {
    "scrolled": true
   },
   "outputs": [
    {
     "data": {
      "text/html": [
       "<div>\n",
       "<style scoped>\n",
       "    .dataframe tbody tr th:only-of-type {\n",
       "        vertical-align: middle;\n",
       "    }\n",
       "\n",
       "    .dataframe tbody tr th {\n",
       "        vertical-align: top;\n",
       "    }\n",
       "\n",
       "    .dataframe thead th {\n",
       "        text-align: right;\n",
       "    }\n",
       "</style>\n",
       "<table border=\"1\" class=\"dataframe\">\n",
       "  <thead>\n",
       "    <tr style=\"text-align: right;\">\n",
       "      <th></th>\n",
       "      <th>precipitation</th>\n",
       "    </tr>\n",
       "  </thead>\n",
       "  <tbody>\n",
       "    <tr>\n",
       "      <th>count</th>\n",
       "      <td>2021.000000</td>\n",
       "    </tr>\n",
       "    <tr>\n",
       "      <th>mean</th>\n",
       "      <td>0.177279</td>\n",
       "    </tr>\n",
       "    <tr>\n",
       "      <th>std</th>\n",
       "      <td>0.461190</td>\n",
       "    </tr>\n",
       "    <tr>\n",
       "      <th>min</th>\n",
       "      <td>0.000000</td>\n",
       "    </tr>\n",
       "    <tr>\n",
       "      <th>25%</th>\n",
       "      <td>0.000000</td>\n",
       "    </tr>\n",
       "    <tr>\n",
       "      <th>50%</th>\n",
       "      <td>0.020000</td>\n",
       "    </tr>\n",
       "    <tr>\n",
       "      <th>75%</th>\n",
       "      <td>0.130000</td>\n",
       "    </tr>\n",
       "    <tr>\n",
       "      <th>max</th>\n",
       "      <td>6.700000</td>\n",
       "    </tr>\n",
       "  </tbody>\n",
       "</table>\n",
       "</div>"
      ],
      "text/plain": [
       "       precipitation\n",
       "count    2021.000000\n",
       "mean        0.177279\n",
       "std         0.461190\n",
       "min         0.000000\n",
       "25%         0.000000\n",
       "50%         0.020000\n",
       "75%         0.130000\n",
       "max         6.700000"
      ]
     },
     "execution_count": 7,
     "metadata": {},
     "output_type": "execute_result"
    }
   ],
   "source": [
    "# Precipitation statistical summary for last 12 months.\n",
    "\n",
    "Prcp_df.describe()"
   ]
  },
  {
   "cell_type": "code",
   "execution_count": 8,
   "metadata": {},
   "outputs": [
    {
     "data": {
      "text/plain": [
       "9"
      ]
     },
     "execution_count": 8,
     "metadata": {},
     "output_type": "execute_result"
    }
   ],
   "source": [
    "# Count for total number of unique stations\n",
    "\n",
    "Station_prcp=session.query(Measurement.station).distinct().count()\n",
    "Station_prcp"
   ]
  },
  {
   "cell_type": "code",
   "execution_count": 9,
   "metadata": {
    "scrolled": false
   },
   "outputs": [
    {
     "data": {
      "text/plain": [
       "[('USC00519281', 2772),\n",
       " ('USC00519397', 2724),\n",
       " ('USC00513117', 2709),\n",
       " ('USC00519523', 2669),\n",
       " ('USC00516128', 2612),\n",
       " ('USC00514830', 2202),\n",
       " ('USC00511918', 1979),\n",
       " ('USC00517948', 1372),\n",
       " ('USC00518838', 511)]"
      ]
     },
     "execution_count": 9,
     "metadata": {},
     "output_type": "execute_result"
    }
   ],
   "source": [
    "# Total unique stations and their respective number of temperature observations.\n",
    "\n",
    "Station_total_prcp=session.query(  \\\n",
    "            Measurement.station, func.count(Measurement.station)).  \\\n",
    "            group_by(Measurement.station).order_by(func.count(Measurement.station).desc()).  \\\n",
    "            distinct().all()\n",
    "\n",
    "\n",
    "\n",
    "Station_total_prcp"
   ]
  },
  {
   "cell_type": "code",
   "execution_count": 14,
   "metadata": {},
   "outputs": [
    {
     "data": {
      "text/plain": [
       "('USC00519281')"
      ]
     },
     "execution_count": 14,
     "metadata": {},
     "output_type": "execute_result"
    }
   ],
   "source": [
    "Station_total_prcp_first=session.query(  \\\n",
    "            Measurement.station).  \\\n",
    "            group_by(Measurement.station).order_by(func.count(Measurement.station).desc()).  \\\n",
    "            distinct().first()\n",
    "\n",
    "Station_total_prcp_first"
   ]
  },
  {
   "cell_type": "code",
   "execution_count": 339,
   "metadata": {
    "scrolled": true
   },
   "outputs": [
    {
     "data": {
      "text/plain": [
       "[(54.0, 85.0, 71.66378066378067)]"
      ]
     },
     "execution_count": 339,
     "metadata": {},
     "output_type": "execute_result"
    }
   ],
   "source": [
    "# Station with most observation is USC00519281.\n",
    "# Stats for this station.\n",
    "\n",
    "\n",
    "Max_station_stats=session.query(  \\\n",
    "        func.min(Measurement.tobs), \n",
    "        func.max(Measurement.tobs), \n",
    "        func.avg(Measurement.tobs)).  \\\n",
    "        filter(Measurement.station==Station_total_prcp[0][0]).  \\\n",
    "        group_by(Measurement.station).all()\n",
    "\n",
    "\n",
    "\n",
    "\n",
    "Max_station_stats"
   ]
  },
  {
   "cell_type": "code",
   "execution_count": 349,
   "metadata": {
    "scrolled": true
   },
   "outputs": [
    {
     "data": {
      "text/html": [
       "<div>\n",
       "<style scoped>\n",
       "    .dataframe tbody tr th:only-of-type {\n",
       "        vertical-align: middle;\n",
       "    }\n",
       "\n",
       "    .dataframe tbody tr th {\n",
       "        vertical-align: top;\n",
       "    }\n",
       "\n",
       "    .dataframe thead th {\n",
       "        text-align: right;\n",
       "    }\n",
       "</style>\n",
       "<table border=\"1\" class=\"dataframe\">\n",
       "  <thead>\n",
       "    <tr style=\"text-align: right;\">\n",
       "      <th></th>\n",
       "      <th>tobs</th>\n",
       "    </tr>\n",
       "    <tr>\n",
       "      <th>station</th>\n",
       "      <th></th>\n",
       "    </tr>\n",
       "  </thead>\n",
       "  <tbody>\n",
       "    <tr>\n",
       "      <th>USC00519281</th>\n",
       "      <td>77.0</td>\n",
       "    </tr>\n",
       "    <tr>\n",
       "      <th>USC00519281</th>\n",
       "      <td>77.0</td>\n",
       "    </tr>\n",
       "    <tr>\n",
       "      <th>USC00519281</th>\n",
       "      <td>80.0</td>\n",
       "    </tr>\n",
       "    <tr>\n",
       "      <th>USC00519281</th>\n",
       "      <td>80.0</td>\n",
       "    </tr>\n",
       "    <tr>\n",
       "      <th>USC00519281</th>\n",
       "      <td>75.0</td>\n",
       "    </tr>\n",
       "  </tbody>\n",
       "</table>\n",
       "</div>"
      ],
      "text/plain": [
       "             tobs\n",
       "station          \n",
       "USC00519281  77.0\n",
       "USC00519281  77.0\n",
       "USC00519281  80.0\n",
       "USC00519281  80.0\n",
       "USC00519281  75.0"
      ]
     },
     "execution_count": 349,
     "metadata": {},
     "output_type": "execute_result"
    }
   ],
   "source": [
    "# Histogram DataFrame.  Last 12 months of temperature date for\n",
    "# station USC00519281.\n",
    "\n",
    "session=Session(engine)\n",
    "Temp_281=session.query(Measurement.station, Measurement.date, Measurement.tobs). \\\n",
    "    filter(Measurement.date < '2017-08-24').  \\\n",
    "    filter(Measurement.date > '2016-08-22').  \\\n",
    "    filter(Measurement.station==Station_total_prcp[0][0]).all()\n",
    "    \n",
    "    \n",
    "    \n",
    "Temp_281_df=pd.DataFrame(Temp_281)\n",
    "Temp_281_df=Temp_281_df.drop(columns=['date'])\n",
    "Temp_281_df=Temp_281_df.set_index('station')\n",
    "Temp_281_df.head()"
   ]
  },
  {
   "cell_type": "code",
   "execution_count": 170,
   "metadata": {
    "scrolled": true
   },
   "outputs": [
    {
     "data": {
      "image/png": "[encoded data removed]",
      "text/plain": [
       "<Figure size 432x288 with 1 Axes>"
      ]
     },
     "metadata": {},
     "output_type": "display_data"
    }
   ],
   "source": [
    "# Temperature Observations for Station USC00519281.\n",
    "# Kinda like a chi-squared distribution.\n",
    "\n",
    "hist_281=Temp_281_df[[\"tobs\"]].plot(kind='hist', bins=12, rwidth=1.0)\n",
    "plt.savefig(\"281 Temperature Histogram\")\n",
    "plt.show()"
   ]
  },
  {
   "cell_type": "code",
   "execution_count": 123,
   "metadata": {
    "scrolled": false
   },
   "outputs": [
    {
     "data": {
      "text/plain": [
       "[(74.13939393939394),\n",
       " (74.05084745762711),\n",
       " (76.00537634408602),\n",
       " (71.9372197309417),\n",
       " (76.6554054054054),\n",
       " (73.39473684210526),\n",
       " (73.27118644067797),\n",
       " (77.55932203389831),\n",
       " (76.66810344827586)]"
      ]
     },
     "execution_count": 123,
     "metadata": {},
     "output_type": "execute_result"
    }
   ],
   "source": [
    "# June Temperatures\n",
    "\n",
    "June_temps=session.query(  \\\n",
    "            func.avg(Measurement.tobs)).  \\\n",
    "            filter(Measurement.date.like('%___-06-__%')).   \\\n",
    "            group_by(Measurement.station).all()\n",
    "\n",
    "\n",
    "\n",
    "# June_temps_df=pd.DataFrame(list(June_temps))\n",
    "\n",
    "June_temps"
   ]
  },
  {
   "cell_type": "code",
   "execution_count": 84,
   "metadata": {
    "scrolled": true
   },
   "outputs": [
    {
     "data": {
      "text/plain": [
       "[(69.6842105263158),\n",
       " (71.06944444444444),\n",
       " (73.2247191011236),\n",
       " (69.29126213592232),\n",
       " (71.8348623853211),\n",
       " (72.42105263157895),\n",
       " (69.90322580645162),\n",
       " (71.10952380952381),\n",
       " (72.43333333333334)]"
      ]
     },
     "execution_count": 84,
     "metadata": {},
     "output_type": "execute_result"
    }
   ],
   "source": [
    "# December Temperatures\n",
    "\n",
    "Dec_temps=session.query(  \\\n",
    "            func.avg(Measurement.tobs)).  \\\n",
    "            filter(Measurement.date.like('%____-12-__%')).  \\\n",
    "            group_by(Measurement.station).all()\n",
    "\n",
    "\n",
    "Dec_temps"
   ]
  },
  {
   "cell_type": "markdown",
   "metadata": {},
   "source": [
    "Independent t test for temperature difference.  Though the data comes from \n",
    "the same sample population, they are only being tested once, indepentently \n",
    "(for thier temperature average).  A paired t test would be used if we were\n",
    "comparing before and after results on the same subset (say we were comparing\n",
    "June and Dec avg temps in 2010 to June and Dec avg temps in 2016 to see if \n",
    "there is a statistical difference.)\n",
    "\n",
    "Ho: June_temp mean  = Dec_temp mean\n",
    "Ha: June_temp mean != Dec_temp mean\n",
    "\n",
    "Since this yields a p-value way less than .05, Ho is rejected.\n",
    "There is sufficient evidence to say that the station temperature\n",
    "average for June and December are statisically different."
   ]
  },
  {
   "cell_type": "code",
   "execution_count": 210,
   "metadata": {
    "scrolled": false
   },
   "outputs": [
    {
     "data": {
      "text/plain": [
       "Ttest_indResult(statistic=array([4.61586542]), pvalue=array([0.00036573]))"
      ]
     },
     "execution_count": 210,
     "metadata": {},
     "output_type": "execute_result"
    }
   ],
   "source": [
    "stats.ttest_ind(June_temps, Dec_temps, equal_var=False)"
   ]
  },
  {
   "cell_type": "code",
   "execution_count": 100,
   "metadata": {},
   "outputs": [],
   "source": [
    "# Temperature Function\n",
    "\n",
    "def calc_temps(start_date, end_date):\n",
    "    \"\"\"TMIN, TAVG, and TMAX for a list of dates.\n",
    "    \n",
    "    Args:\n",
    "        start_date (string): A date string in the format %Y-%m-%d\n",
    "        end_date (string): A date string in the format %Y-%m-%d\n",
    "        \n",
    "    Returns:\n",
    "        TMIN, TAVE, and TMAX\n",
    "    \"\"\"\n",
    "    \n",
    "    return session.query( \\\n",
    "            func.min(Measurement.tobs), \\\n",
    "            func.avg(Measurement.tobs), \\\n",
    "            func.max(Measurement.tobs)).\\\n",
    "            filter(Measurement.date >= start_date). \\\n",
    "            filter(Measurement.date <= end_date).all()\n"
   ]
  },
  {
   "cell_type": "code",
   "execution_count": 101,
   "metadata": {
    "scrolled": true
   },
   "outputs": [
    {
     "name": "stdout",
     "output_type": "stream",
     "text": [
      "[(56.0, 68.06315789473685, 80.0)]\n"
     ]
    }
   ],
   "source": [
    "# Test the Temperature Function.  Vacation dates with be from:\n",
    "# 2015-03-10 to 2015-03-24.  Seems a bit below the average in June\n",
    "# but after living in Florida for almost my whole life, I will take\n",
    "# coolness over hot anyday.\n",
    "\n",
    "print(calc_temps('2015-03-10', '2015-03-24'))"
   ]
  },
  {
   "cell_type": "code",
   "execution_count": 361,
   "metadata": {},
   "outputs": [
    {
     "data": {
      "image/png": "[encoded data removed]",
      "text/plain": [
       "<Figure size 216x720 with 1 Axes>"
      ]
     },
     "metadata": {},
     "output_type": "display_data"
    }
   ],
   "source": [
    "# Bar Graph for Average Vacation Temperature.\n",
    "\n",
    "Vac_data=calc_temps('2015-03-10', '2015-03-24')\n",
    "Vac_data_df=pd.DataFrame(list(Vac_data),  \\\n",
    "               columns=('Minimum Vacation Temperature',  \\\n",
    "                        'Average Vacation Temperature',  \\\n",
    "                        'Maximum Vacation Temperature'))\n",
    "\n",
    "\n",
    "\n",
    "plt.gca().get_xaxis().set_visible(False)\n",
    "Temp_plot=Vac_data_df['Average Vacation Temperature']. \\\n",
    "        plot(kind='bar', \n",
    "             figsize=(3,10),\n",
    "             yerr=(Vac_data_df[\"Maximum Vacation Temperature\"]- \\\n",
    "             Vac_data_df[\"Minimum Vacation Temperature\"]),\\\n",
    "             \n",
    "             \n",
    "             \n",
    "             color='#de7e5d',\n",
    "             alpha=0.5,\n",
    "             ylim=(0,105),\n",
    "             width=1.8)\n",
    "\n",
    "\n",
    "\n",
    "plt.title(\"Average Trip Temperature\", fontsize=16)\n",
    "plt.ylabel(\"Temp (F)\", fontsize=18)\n",
    "plt.savefig(\"Trip Avg Temp Bar Graph\")\n",
    "plt.show()"
   ]
  },
  {
   "cell_type": "code",
   "execution_count": 242,
   "metadata": {
    "scrolled": false
   },
   "outputs": [
    {
     "data": {
      "text/plain": [
       "[('USC00516128',\n",
       "  'MANOA LYON ARBO 785.2, HI US',\n",
       "  21.3331,\n",
       "  -157.8025,\n",
       "  152.4,\n",
       "  2.6799999999999997),\n",
       " ('USC00517948',\n",
       "  'PEARL CITY, HI US',\n",
       "  21.3934,\n",
       "  -157.9751,\n",
       "  11.9,\n",
       "  2.4299999999999997),\n",
       " ('USC00519281',\n",
       "  'WAIHEE 837.5, HI US',\n",
       "  21.45167,\n",
       "  -157.84888999999998,\n",
       "  32.9,\n",
       "  1.5500000000000003),\n",
       " ('USC00519523',\n",
       "  'WAIMANALO EXPERIMENTAL FARM, HI US',\n",
       "  21.33556,\n",
       "  -157.71139,\n",
       "  19.5,\n",
       "  0.78),\n",
       " ('USC00513117',\n",
       "  'KANEOHE 838.1, HI US',\n",
       "  21.4234,\n",
       "  -157.8015,\n",
       "  14.6,\n",
       "  0.36000000000000004),\n",
       " ('USC00519397', 'WAIKIKI 717.2, HI US', 21.2716, -157.8168, 3.0, 0.16),\n",
       " ('USC00511918',\n",
       "  'HONOLULU OBSERVATORY 702.2, HI US',\n",
       "  21.3152,\n",
       "  -157.9992,\n",
       "  0.9,\n",
       "  0.060000000000000005),\n",
       " ('USC00514830',\n",
       "  'KUALOA RANCH HEADQUARTERS 886.9, HI US',\n",
       "  21.5213,\n",
       "  -157.8374,\n",
       "  7.0,\n",
       "  0.03)]"
      ]
     },
     "execution_count": 242,
     "metadata": {},
     "output_type": "execute_result"
    }
   ],
   "source": [
    "# Merge both datasets together on station name.\n",
    "\n",
    "# Reference dates: 2014-03-10 to 2014-03-24.\n",
    "\n",
    "# Interesting to note that station USC00518838 does not\n",
    "# have any data recorded for this time span so there will\n",
    "# only be 8 stations with precipitation data.\n",
    "\n",
    "\n",
    "Vac_perc_merged=session.query(        \\\n",
    "        Measurement.station,          \\\n",
    "        Station.name,                 \\\n",
    "        Station.latitude,             \\\n",
    "        Station.longitude,            \\\n",
    "        Station.elevation,            \\\n",
    "        func.sum(Measurement.prcp)).  \\\n",
    "        filter(Measurement.station==Station.station). \\\n",
    "        filter(Measurement.date>='2014-03-10').       \\\n",
    "        filter(Measurement.date<='2014-03-24').       \\\n",
    "        group_by(Measurement.station).                \\\n",
    "        order_by(func.sum(Measurement.prcp).desc()).  \\\n",
    "        all()\n",
    "\n",
    "\n",
    "\n",
    "Vac_perc_merged"
   ]
  },
  {
   "cell_type": "code",
   "execution_count": 260,
   "metadata": {
    "scrolled": true
   },
   "outputs": [
    {
     "data": {
      "text/html": [
       "<div>\n",
       "<style scoped>\n",
       "    .dataframe tbody tr th:only-of-type {\n",
       "        vertical-align: middle;\n",
       "    }\n",
       "\n",
       "    .dataframe tbody tr th {\n",
       "        vertical-align: top;\n",
       "    }\n",
       "\n",
       "    .dataframe thead th {\n",
       "        text-align: right;\n",
       "    }\n",
       "</style>\n",
       "<table border=\"1\" class=\"dataframe\">\n",
       "  <thead>\n",
       "    <tr style=\"text-align: right;\">\n",
       "      <th></th>\n",
       "      <th>Station</th>\n",
       "      <th>Percipitation</th>\n",
       "    </tr>\n",
       "  </thead>\n",
       "  <tbody>\n",
       "    <tr>\n",
       "      <th>0</th>\n",
       "      <td>USC00516128</td>\n",
       "      <td>2.68</td>\n",
       "    </tr>\n",
       "    <tr>\n",
       "      <th>1</th>\n",
       "      <td>USC00517948</td>\n",
       "      <td>2.43</td>\n",
       "    </tr>\n",
       "    <tr>\n",
       "      <th>2</th>\n",
       "      <td>USC00519281</td>\n",
       "      <td>1.55</td>\n",
       "    </tr>\n",
       "    <tr>\n",
       "      <th>3</th>\n",
       "      <td>USC00519523</td>\n",
       "      <td>0.78</td>\n",
       "    </tr>\n",
       "    <tr>\n",
       "      <th>4</th>\n",
       "      <td>USC00513117</td>\n",
       "      <td>0.36</td>\n",
       "    </tr>\n",
       "    <tr>\n",
       "      <th>5</th>\n",
       "      <td>USC00519397</td>\n",
       "      <td>0.16</td>\n",
       "    </tr>\n",
       "    <tr>\n",
       "      <th>6</th>\n",
       "      <td>USC00511918</td>\n",
       "      <td>0.06</td>\n",
       "    </tr>\n",
       "    <tr>\n",
       "      <th>7</th>\n",
       "      <td>USC00514830</td>\n",
       "      <td>0.03</td>\n",
       "    </tr>\n",
       "  </tbody>\n",
       "</table>\n",
       "</div>"
      ],
      "text/plain": [
       "       Station  Percipitation\n",
       "0  USC00516128           2.68\n",
       "1  USC00517948           2.43\n",
       "2  USC00519281           1.55\n",
       "3  USC00519523           0.78\n",
       "4  USC00513117           0.36\n",
       "5  USC00519397           0.16\n",
       "6  USC00511918           0.06\n",
       "7  USC00514830           0.03"
      ]
     },
     "execution_count": 260,
     "metadata": {},
     "output_type": "execute_result"
    }
   ],
   "source": [
    "# Make a loop for this.  Apply to daily_normal dataframe.\n",
    "\n",
    "Vac_perc_only=pd.DataFrame({\n",
    "    \"Station\":[Vac_perc_merged[0][0],\n",
    "              Vac_perc_merged[1][0],\n",
    "              Vac_perc_merged[2][0],\n",
    "              Vac_perc_merged[3][0],\n",
    "              Vac_perc_merged[4][0],\n",
    "              Vac_perc_merged[5][0],\n",
    "              Vac_perc_merged[6][0],\n",
    "              Vac_perc_merged[7][0],\n",
    "              ],\n",
    "    \n",
    "    \"Percipitation\":[Vac_perc_merged[0][5],\n",
    "                    Vac_perc_merged[1][5],\n",
    "                    Vac_perc_merged[2][5],\n",
    "                    Vac_perc_merged[3][5],\n",
    "                    Vac_perc_merged[4][5],\n",
    "                    Vac_perc_merged[5][5],\n",
    "                    Vac_perc_merged[6][5],\n",
    "                    Vac_perc_merged[7][5],\n",
    "                    ]\n",
    "                    }\n",
    "                    )\n",
    "\n",
    "\n",
    "\n",
    "Vac_perc_only"
   ]
  },
  {
   "cell_type": "code",
   "execution_count": 237,
   "metadata": {},
   "outputs": [],
   "source": [
    "# Daily Normals Macro...Function.\n",
    "\n",
    "def daily_normals(date):\n",
    "    \"\"\"Daily Normals.\n",
    "    \n",
    "    Args:\n",
    "        date (str): A date string in the format '%m-%d'\n",
    "        \n",
    "    Returns:\n",
    "        A list of tuples containing the daily normals, tmin, tavg, and tmax\n",
    "    \n",
    "    \"\"\"\n",
    "    \n",
    "    sel = [func.min(Measurement.tobs), func.avg(Measurement.tobs), func.max(Measurement.tobs)]\n",
    "    return session.query(*sel).filter(func.strftime(\"%m-%d\", Measurement.date) == date).all()\n"
   ]
  },
  {
   "cell_type": "code",
   "execution_count": 269,
   "metadata": {
    "scrolled": true
   },
   "outputs": [
    {
     "data": {
      "text/plain": [
       "69.12280701754386"
      ]
     },
     "execution_count": 269,
     "metadata": {},
     "output_type": "execute_result"
    }
   ],
   "source": [
    "# Test out the macro:\n",
    "# Seems to work correctly.\n",
    "\n",
    "min_v=daily_normals('03-10')[0][0]\n",
    "avg_v=daily_normals('03-10')[0][1]\n",
    "max_v=daily_normals('03-10')[0][2]\n",
    "\n",
    "avg_v"
   ]
  },
  {
   "cell_type": "code",
   "execution_count": 292,
   "metadata": {
    "scrolled": true
   },
   "outputs": [
    {
     "data": {
      "text/html": [
       "<div>\n",
       "<style scoped>\n",
       "    .dataframe tbody tr th:only-of-type {\n",
       "        vertical-align: middle;\n",
       "    }\n",
       "\n",
       "    .dataframe tbody tr th {\n",
       "        vertical-align: top;\n",
       "    }\n",
       "\n",
       "    .dataframe thead th {\n",
       "        text-align: right;\n",
       "    }\n",
       "</style>\n",
       "<table border=\"1\" class=\"dataframe\">\n",
       "  <thead>\n",
       "    <tr style=\"text-align: right;\">\n",
       "      <th></th>\n",
       "      <th>Minumum Daily Temperatures</th>\n",
       "      <th>Average Daily Temperatures</th>\n",
       "      <th>Maximum Daily Temperatures</th>\n",
       "    </tr>\n",
       "    <tr>\n",
       "      <th>Dates</th>\n",
       "      <th></th>\n",
       "      <th></th>\n",
       "      <th></th>\n",
       "    </tr>\n",
       "  </thead>\n",
       "  <tbody>\n",
       "    <tr>\n",
       "      <th>03-10-2015</th>\n",
       "      <td>57.0</td>\n",
       "      <td>69.122807</td>\n",
       "      <td>75.0</td>\n",
       "    </tr>\n",
       "    <tr>\n",
       "      <th>03-11-2015</th>\n",
       "      <td>60.0</td>\n",
       "      <td>69.892857</td>\n",
       "      <td>82.0</td>\n",
       "    </tr>\n",
       "    <tr>\n",
       "      <th>03-12-2015</th>\n",
       "      <td>62.0</td>\n",
       "      <td>69.888889</td>\n",
       "      <td>80.0</td>\n",
       "    </tr>\n",
       "    <tr>\n",
       "      <th>03-13-2015</th>\n",
       "      <td>56.0</td>\n",
       "      <td>69.296296</td>\n",
       "      <td>77.0</td>\n",
       "    </tr>\n",
       "    <tr>\n",
       "      <th>03-14-2015</th>\n",
       "      <td>62.0</td>\n",
       "      <td>70.327586</td>\n",
       "      <td>77.0</td>\n",
       "    </tr>\n",
       "  </tbody>\n",
       "</table>\n",
       "</div>"
      ],
      "text/plain": [
       "            Minumum Daily Temperatures  Average Daily Temperatures  \\\n",
       "Dates                                                                \n",
       "03-10-2015                        57.0                   69.122807   \n",
       "03-11-2015                        60.0                   69.892857   \n",
       "03-12-2015                        62.0                   69.888889   \n",
       "03-13-2015                        56.0                   69.296296   \n",
       "03-14-2015                        62.0                   70.327586   \n",
       "\n",
       "            Maximum Daily Temperatures  \n",
       "Dates                                   \n",
       "03-10-2015                        75.0  \n",
       "03-11-2015                        82.0  \n",
       "03-12-2015                        80.0  \n",
       "03-13-2015                        77.0  \n",
       "03-14-2015                        77.0  "
      ]
     },
     "execution_count": 292,
     "metadata": {},
     "output_type": "execute_result"
    }
   ],
   "source": [
    "# Vacation data using function put into a dataframe.\n",
    "# These are dates just for specific days however, 2015 is added\n",
    "# since that will be the year that the vacation dates occur.\n",
    "\n",
    "Vac_daily_df=pd.DataFrame({\n",
    "    \"Dates\": [\n",
    "             '03-10-2015','03-11-2015','03-12-2015','03-13-2015','03-14-2015',\n",
    "             '03-15-2015','03-16-2015','03-17-2015','03-18-2015','03-19-2015',\n",
    "             '03-20-2015','03-21-2015','03-22-2015','03-23-2015','03-24-2015',\n",
    "             ],\n",
    "    \n",
    "    \n",
    "    \n",
    "    \"Minumum Daily Temperatures\": [\n",
    "                                  daily_normals('03-10')[0][0],\n",
    "                                  daily_normals('03-11')[0][0],\n",
    "                                  daily_normals('03-12')[0][0],\n",
    "                                  daily_normals('03-13')[0][0],\n",
    "                                  daily_normals('03-14')[0][0],\n",
    "                                  daily_normals('03-15')[0][0],\n",
    "                                  daily_normals('03-16')[0][0],\n",
    "                                  daily_normals('03-17')[0][0],\n",
    "                                  daily_normals('03-18')[0][0],\n",
    "                                  daily_normals('03-19')[0][0],\n",
    "                                  daily_normals('03-20')[0][0],\n",
    "                                  daily_normals('03-21')[0][0],\n",
    "                                  daily_normals('03-22')[0][0],\n",
    "                                  daily_normals('03-23')[0][0],\n",
    "                                  daily_normals('03-24')[0][0]\n",
    "                                  ],\n",
    "    \n",
    "    \n",
    "    \n",
    "    \"Average Daily Temperatures\": [\n",
    "                                  daily_normals('03-10')[0][1],\n",
    "                                  daily_normals('03-11')[0][1],\n",
    "                                  daily_normals('03-12')[0][1],\n",
    "                                  daily_normals('03-13')[0][1],\n",
    "                                  daily_normals('03-14')[0][1],\n",
    "                                  daily_normals('03-15')[0][1],\n",
    "                                  daily_normals('03-16')[0][1],\n",
    "                                  daily_normals('03-17')[0][1],\n",
    "                                  daily_normals('03-18')[0][1],\n",
    "                                  daily_normals('03-19')[0][1],\n",
    "                                  daily_normals('03-20')[0][1],\n",
    "                                  daily_normals('03-21')[0][1],\n",
    "                                  daily_normals('03-22')[0][1],\n",
    "                                  daily_normals('03-23')[0][1],\n",
    "                                  daily_normals('03-24')[0][1]\n",
    "                                  ],  \n",
    "    \n",
    "    \n",
    "    \n",
    "    \"Maximum Daily Temperatures\": [\n",
    "                                  daily_normals('03-10')[0][2],\n",
    "                                  daily_normals('03-11')[0][2],\n",
    "                                  daily_normals('03-12')[0][2],\n",
    "                                  daily_normals('03-13')[0][2],\n",
    "                                  daily_normals('03-14')[0][2],\n",
    "                                  daily_normals('03-15')[0][2],\n",
    "                                  daily_normals('03-16')[0][2],\n",
    "                                  daily_normals('03-17')[0][2],\n",
    "                                  daily_normals('03-18')[0][2],\n",
    "                                  daily_normals('03-19')[0][2],\n",
    "                                  daily_normals('03-20')[0][2],\n",
    "                                  daily_normals('03-21')[0][2],\n",
    "                                  daily_normals('03-22')[0][2],\n",
    "                                  daily_normals('03-23')[0][2],\n",
    "                                  daily_normals('03-24')[0][2]\n",
    "                                  ], \n",
    "                        }\n",
    "                        )\n",
    "\n",
    "\n",
    "\n",
    "Vac_daily_df=Vac_daily_df.set_index(['Dates'])\n",
    "Vac_daily_df.head()"
   ]
  },
  {
   "cell_type": "code",
   "execution_count": 341,
   "metadata": {},
   "outputs": [
    {
     "data": {
      "image/png": "[encoded data removed]",
      "text/plain": [
       "<Figure size 720x288 with 1 Axes>"
      ]
     },
     "metadata": {},
     "output_type": "display_data"
    }
   ],
   "source": [
    "# Area Plot.  Pretty cool and surprisingly simple.\n",
    "\n",
    "Area_plot=Vac_daily_df.plot(  \\\n",
    "    kind='area', stacked=False, alpha=0.25, rot=30, figsize=(10,4)\n",
    "                           )\n",
    "\n",
    "\n",
    "\n",
    "\n",
    "plt.savefig('Vacation Area Plot')\n",
    "plt.show()"
   ]
  }
 ],
 "metadata": {
  "kernelspec": {
   "display_name": "Python 3",
   "language": "python",
   "name": "python3"
  },
  "language_info": {
   "codemirror_mode": {
    "name": "ipython",
    "version": 3
   },
   "file_extension": ".py",
   "mimetype": "text/x-python",
   "name": "python",
   "nbconvert_exporter": "python",
   "pygments_lexer": "ipython3",
   "version": "3.7.3"
  }
 },
 "nbformat": 4,
 "nbformat_minor": 2
}
