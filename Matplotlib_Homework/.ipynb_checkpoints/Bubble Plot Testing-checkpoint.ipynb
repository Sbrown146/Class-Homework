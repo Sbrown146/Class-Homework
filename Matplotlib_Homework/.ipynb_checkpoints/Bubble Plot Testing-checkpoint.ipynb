{
 "cells": [
  {
   "cell_type": "code",
   "execution_count": 23,
   "metadata": {},
   "outputs": [
    {
     "ename": "ValueError",
     "evalue": "too many values to unpack (expected 2)",
     "output_type": "error",
     "traceback": [
      "\u001b[1;31m---------------------------------------------------------------------------\u001b[0m",
      "\u001b[1;31mValueError\u001b[0m                                Traceback (most recent call last)",
      "\u001b[1;32m<ipython-input-23-0916d7710865>\u001b[0m in \u001b[0;36m<module>\u001b[1;34m\u001b[0m\n\u001b[0;32m     56\u001b[0m \u001b[1;33m\u001b[0m\u001b[0m\n\u001b[0;32m     57\u001b[0m \u001b[1;32mfor\u001b[0m \u001b[0mdata\u001b[0m\u001b[1;33m,\u001b[0m \u001b[0mcolor\u001b[0m\u001b[1;33m,\u001b[0m \u001b[0mgroup\u001b[0m \u001b[1;32min\u001b[0m \u001b[0mzip\u001b[0m\u001b[1;33m(\u001b[0m\u001b[0mdata\u001b[0m\u001b[1;33m,\u001b[0m \u001b[0mcolors\u001b[0m\u001b[1;33m,\u001b[0m \u001b[0mgroups\u001b[0m\u001b[1;33m)\u001b[0m\u001b[1;33m:\u001b[0m\u001b[1;33m\u001b[0m\u001b[1;33m\u001b[0m\u001b[0m\n\u001b[1;32m---> 58\u001b[1;33m     \u001b[0mx\u001b[0m\u001b[1;33m,\u001b[0m \u001b[0my\u001b[0m\u001b[1;33m=\u001b[0m \u001b[0mdata\u001b[0m\u001b[1;33m\u001b[0m\u001b[1;33m\u001b[0m\u001b[0m\n\u001b[0m\u001b[0;32m     59\u001b[0m     \u001b[0max\u001b[0m\u001b[1;33m.\u001b[0m\u001b[0mscatter\u001b[0m\u001b[1;33m(\u001b[0m\u001b[0mdata\u001b[0m\u001b[1;33m,\u001b[0m \u001b[0mdata\u001b[0m\u001b[1;33m,\u001b[0m \u001b[0malpha\u001b[0m\u001b[1;33m=\u001b[0m\u001b[1;36m0.8\u001b[0m\u001b[1;33m,\u001b[0m \u001b[0mc\u001b[0m\u001b[1;33m=\u001b[0m\u001b[0mcolor\u001b[0m\u001b[1;33m,\u001b[0m \u001b[0medgecolors\u001b[0m\u001b[1;33m=\u001b[0m\u001b[1;34m'none'\u001b[0m\u001b[1;33m,\u001b[0m \u001b[0ms\u001b[0m\u001b[1;33m=\u001b[0m\u001b[1;36m30\u001b[0m\u001b[1;33m,\u001b[0m \u001b[0mlabel\u001b[0m\u001b[1;33m=\u001b[0m\u001b[0mgroup\u001b[0m\u001b[1;33m)\u001b[0m\u001b[1;33m\u001b[0m\u001b[1;33m\u001b[0m\u001b[0m\n\u001b[0;32m     60\u001b[0m \u001b[1;33m\u001b[0m\u001b[0m\n",
      "\u001b[1;31mValueError\u001b[0m: too many values to unpack (expected 2)"
     ]
    },
    {
     "data": {
      "image/png": "[encoded data removed]",
      "text/plain": [
       "<Figure size 432x288 with 1 Axes>"
      ]
     },
     "metadata": {
      "needs_background": "light"
     },
     "output_type": "display_data"
    }
   ],
   "source": [
    "import pandas as pd\n",
    "import numpy as np\n",
    "import matplotlib.pyplot as plt\n",
    "import warnings\n",
    "warnings.filterwarnings('ignore')\n",
    "import seaborn as sns\n",
    "\n",
    "\n",
    "city = \"Resources/city_data.csv\"\n",
    "ride = \"Resources/ride_data.csv\"\n",
    "city_df = pd.read_csv(city, encoding=\"utf-8\")\n",
    "ride_df = pd.read_csv(ride, encoding=\"utf-8\")\n",
    "\n",
    "pyber_df = pd.merge(city_df, ride_df, on=\"city\")\n",
    "pyber_df = pyber_df.rename(columns = {\"city\": \"City\", \"driver_count\": \"Driver Count\",\n",
    "                                     \"type\": \"Type\", \"date\": \"Date\", \"fare\": \"Fare\",\n",
    "                                     \"ride_id\": \"Ride ID\"})\n",
    "pyber_df = pd.DataFrame(pyber_df)\n",
    "\n",
    "pyber_city_fare = pyber_df[[\"City\", \"Fare\"]]\n",
    "pyber_city_fare_total = pyber_city_fare.groupby(['City']).sum().reset_index()\n",
    "pyber_city_fare_total = pyber_city_fare_total[[\"City\", \"Fare\"]]\n",
    "\n",
    "pyber_city_driver_count = pyber_df[[\"City\", \"Driver Count\", \"Type\"]]\n",
    "pyber_city_driver_count.drop_duplicates(\"City\", keep=\"first\", inplace=True)\n",
    "\n",
    "pyber_city_ride = pyber_df[[\"City\", \"Ride ID\"]]\n",
    "pyber_city_ride_count = pyber_city_ride.groupby(['City']).count().reset_index()\n",
    "\n",
    "pyber_city_fare_mu = pd.merge(pyber_city_fare_total, pyber_city_driver_count, on=\"City\")\n",
    "pyber_city_fare_mu = pd.merge(pyber_city_fare_mu, pyber_city_ride_count, on=\"City\")\n",
    "pyber_city_fare_mu = pyber_city_fare_mu.rename(columns = {\"Ride ID\": \"Total Number of Rides\",\n",
    "                                                         \"Fare\": \"Total Fare Amount\"})\n",
    "pyber_city_fare_mu[\"Average Fare Amount\"] = (\n",
    "        pyber_city_fare_mu[\"Total Fare Amount\"]/pyber_city_fare_mu[\"Total Number of Rides\"])\n",
    "pyber_city_fare_mu = pyber_city_fare_mu[[\"City\", \"Type\", \"Driver Count\", \"Total Number of Rides\",\n",
    "                                        \"Average Fare Amount\", \"Total Fare Amount\"]]\n",
    "\n",
    "Driver_Count = pyber_city_fare_mu[\"Driver Count\"]\n",
    "Total_Rides = pyber_city_fare_mu[\"Total Number of Rides\"]\n",
    "Fare_Mu = pyber_city_fare_mu[\"Average Fare Amount\"]\n",
    "Fare_Mu = [round(y, 2) for y in Fare_Mu]\n",
    "\n",
    "\n",
    "g1 = (Driver_Count)\n",
    "g2 = (Total_Rides)\n",
    "g3 = (Fare_Mu)\n",
    "\n",
    "data = (g1, g2, g3)\n",
    "colors = (\"red\", \"green\", \"blue\")\n",
    "groups = (\"coffee\", \"tea\", \"water\")\n",
    "\n",
    "# Create plot\n",
    "fig = plt.figure()\n",
    "ax = fig.add_subplot(1, 1, 1)\n",
    "\n",
    "for data, color, group in zip(data, colors, groups):\n",
    "    x, y= data\n",
    "    ax.scatter(data, data, alpha=0.8, c=color, edgecolors='none', s=30, label=group)\n",
    "\n",
    "plt.title('Matplot scatter plot')\n",
    "plt.legend(loc=2)\n",
    "plt.show()\n",
    "print(len(g1))"
   ]
  }
 ],
 "metadata": {
  "kernelspec": {
   "display_name": "Python 3",
   "language": "python",
   "name": "python3"
  },
  "language_info": {
   "codemirror_mode": {
    "name": "ipython",
    "version": 3
   },
   "file_extension": ".py",
   "mimetype": "text/x-python",
   "name": "python",
   "nbconvert_exporter": "python",
   "pygments_lexer": "ipython3",
   "version": "3.7.3"
  }
 },
 "nbformat": 4,
 "nbformat_minor": 2
}
